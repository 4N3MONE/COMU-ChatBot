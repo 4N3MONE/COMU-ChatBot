{
 "cells": [
  {
   "cell_type": "code",
   "execution_count": null,
   "metadata": {},
   "outputs": [],
   "source": [
    "!pip install torch==1.7.1+cu110 -f https://download.pytorch.org/whl/torch_stable.html\n",
    "!pip install torchtext==0.8.1\n",
    "!pip install git+https://github.com/SKT-AI/KoBART#egg=kobart\n",
    "!pip install transformers==4.11.3"
   ]
  },
  {
   "cell_type": "code",
   "execution_count": null,
   "metadata": {},
   "outputs": [],
   "source": [
    "!git clone --recurse-submodules https://github.com/haven-jeon/KoBART-chatbot.git"
   ]
  },
  {
   "cell_type": "code",
   "execution_count": null,
   "metadata": {},
   "outputs": [],
   "source": [
    "from kobart import get_kobart_tokenizer\n",
    "get_kobart_tokenizer(\".\")"
   ]
  },
  {
   "attachments": {},
   "cell_type": "markdown",
   "metadata": {},
   "source": [
    "### 여기서 주의: \n",
    "1. kobart_chit_chat 파일을 첨부된 파일로 replace -> 모델 저장 옵션\n",
    "2. Chatbot_Data의 train, test파일 바꿔주기"
   ]
  },
  {
   "cell_type": "code",
   "execution_count": null,
   "metadata": {},
   "outputs": [],
   "source": [
    "!python kobart_chit_chat.py  --gradient_clip_val 1.0 --max_epochs 5 --default_root_dir src/logs --model_path hyunwoongko/kobart --tokenizer_path emji_tokenizer --chat --gpus 1"
   ]
  },
  {
   "cell_type": "code",
   "execution_count": null,
   "metadata": {},
   "outputs": [],
   "source": [
    "import pytorch_lightning as pl\n",
    "from transformers import BartForConditionalGeneration, BartConfig, PreTrainedTokenizerFast\n",
    "import torch\n",
    "\n",
    "class BartModel(pl.LightningModule):\n",
    "    def __init__(self):\n",
    "        super().__init__()\n",
    "        self.model = BartForConditionalGeneration.from_pretrained('hyunwoongko/kobart')  \n",
    "      \n",
    "    def forward(self):\n",
    "        pass\n",
    "\n",
    "def ckpt_to_pretrained(ckpt_path, pretrained_path):\n",
    "    model = BartModel()\n",
    "    ckpt = torch.load(ckpt_path)\n",
    "    model.load_state_dict(ckpt['state_dict'])\n",
    "    model.model.save_pretrained(pretrained_path)"
   ]
  },
  {
   "cell_type": "code",
   "execution_count": null,
   "metadata": {},
   "outputs": [],
   "source": [
    "# 저장된 체크포인트를 루트에 my_model 이름의 bin폴더로 저장한다.\n",
    "ckpt_to_pretrained('src/logs/kobart_chitchat-last.ckpt', 'my_model')"
   ]
  }
 ],
 "metadata": {
  "language_info": {
   "name": "python"
  },
  "orig_nbformat": 4
 },
 "nbformat": 4,
 "nbformat_minor": 2
}
