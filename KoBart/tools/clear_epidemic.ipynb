{
 "cells": [
  {
   "cell_type": "code",
   "execution_count": 10,
   "metadata": {},
   "outputs": [],
   "source": [
    "files = ['data/test_data.csv', 'data/train_data.csv']"
   ]
  },
  {
   "cell_type": "code",
   "execution_count": 7,
   "metadata": {},
   "outputs": [],
   "source": [
    "import re"
   ]
  },
  {
   "cell_type": "code",
   "execution_count": 21,
   "metadata": {},
   "outputs": [],
   "source": [
    "def clear_more_double(document, char):\n",
    "    pattern = re.compile(char * 2 + '+')\n",
    "    print(f'before {char}: {len(document)}')\n",
    "    document = re.sub(pattern, 'ㅋㅋ', document)\n",
    "    print(f'after {char}: {len(document)}')\n",
    "    return document"
   ]
  },
  {
   "cell_type": "code",
   "execution_count": 22,
   "metadata": {},
   "outputs": [],
   "source": [
    "def clear_laugh_emo(file_name):\n",
    "    with open(file_name, 'r') as f:\n",
    "        document = f.read()\n",
    "    document = document.replace('ㅋ', '')\n",
    "    with open(file_name + '.clear', 'w') as f:\n",
    "        f.write(document)\n",
    "    return"
   ]
  },
  {
   "cell_type": "code",
   "execution_count": 28,
   "metadata": {},
   "outputs": [
    {
     "name": "stdout",
     "output_type": "stream",
     "text": [
      "before ㅋ: 516906\n",
      "after ㅋ: 515366\n",
      "before \\?: 515366\n",
      "after \\?: 515094\n",
      "before \\.: 515094\n",
      "after \\.: 515094\n",
      "before ㅠ: 515094\n",
      "after ㅠ: 514855\n",
      "before !: 514855\n",
      "after !: 514630\n",
      "before ~: 514630\n",
      "after ~: 514582\n",
      "before ㅋ: 1213363\n",
      "after ㅋ: 1209881\n",
      "before \\?: 1209881\n",
      "after \\?: 1209279\n",
      "before \\.: 1209279\n",
      "after \\.: 1209279\n",
      "before ㅠ: 1209279\n",
      "after ㅠ: 1208732\n",
      "before !: 1208732\n",
      "after !: 1208253\n",
      "before ~: 1208253\n",
      "after ~: 1208131\n"
     ]
    }
   ],
   "source": [
    "for file in files:\n",
    "    with open(file, 'r') as f:\n",
    "        document = f.read()\n",
    "    iterwords = ['ㅋ', '\\?', '\\.', 'ㅠ', '!', '~']\n",
    "    for iterword in iterwords:\n",
    "        document = clear_more_double(document, iterword)\n",
    "    with open(file.replace('.', '_re.'), 'w') as f:\n",
    "        f.write(document)"
   ]
  }
 ],
 "metadata": {
  "kernelspec": {
   "display_name": "grad_nlp_comu_kobart",
   "language": "python",
   "name": "python3"
  },
  "language_info": {
   "codemirror_mode": {
    "name": "ipython",
    "version": 3
   },
   "file_extension": ".py",
   "mimetype": "text/x-python",
   "name": "python",
   "nbconvert_exporter": "python",
   "pygments_lexer": "ipython3",
   "version": "3.8.2"
  },
  "orig_nbformat": 4
 },
 "nbformat": 4,
 "nbformat_minor": 2
}
