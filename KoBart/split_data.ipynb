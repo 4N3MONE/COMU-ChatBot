{
 "cells": [
  {
   "cell_type": "code",
   "execution_count": 2,
   "metadata": {},
   "outputs": [],
   "source": [
    "import pandas as pd"
   ]
  },
  {
   "cell_type": "code",
   "execution_count": 5,
   "metadata": {},
   "outputs": [
    {
     "data": {
      "text/html": [
       "<div>\n",
       "<style scoped>\n",
       "    .dataframe tbody tr th:only-of-type {\n",
       "        vertical-align: middle;\n",
       "    }\n",
       "\n",
       "    .dataframe tbody tr th {\n",
       "        vertical-align: top;\n",
       "    }\n",
       "\n",
       "    .dataframe thead th {\n",
       "        text-align: right;\n",
       "    }\n",
       "</style>\n",
       "<table border=\"1\" class=\"dataframe\">\n",
       "  <thead>\n",
       "    <tr style=\"text-align: right;\">\n",
       "      <th></th>\n",
       "      <th>tag</th>\n",
       "      <th>title</th>\n",
       "      <th>comment</th>\n",
       "      <th>src</th>\n",
       "    </tr>\n",
       "  </thead>\n",
       "  <tbody>\n",
       "    <tr>\n",
       "      <th>0</th>\n",
       "      <td>이별</td>\n",
       "      <td>카톡 차단확인</td>\n",
       "      <td>카톡프사 눌러서 오른쪽 위에 버튼 없으면 차단임</td>\n",
       "      <td>펨코</td>\n",
       "    </tr>\n",
       "    <tr>\n",
       "      <th>1</th>\n",
       "      <td>이별</td>\n",
       "      <td>헤어졌다링</td>\n",
       "      <td>아 ㅠㅠㅜㅜㅠㅜㅠㅜㅜㅠ 힘내유 ㅠㅠㅜㅠㅠㅜㅠㅠ</td>\n",
       "      <td>펨코</td>\n",
       "    </tr>\n",
       "    <tr>\n",
       "      <th>2</th>\n",
       "      <td>이별</td>\n",
       "      <td>이별후 노래</td>\n",
       "      <td>기억을 걷습니다 고갱님</td>\n",
       "      <td>펨코</td>\n",
       "    </tr>\n",
       "    <tr>\n",
       "      <th>3</th>\n",
       "      <td>이별</td>\n",
       "      <td>3개월만에 헤어졌네요</td>\n",
       "      <td>인연이 아니였던거지 만남들 복기해보고 다음연애 준비하자</td>\n",
       "      <td>펨코</td>\n",
       "    </tr>\n",
       "    <tr>\n",
       "      <th>4</th>\n",
       "      <td>이별</td>\n",
       "      <td>헤어졌다 만났다가 3번째인데 끝이나버렸습니다</td>\n",
       "      <td>너무 자책하지 마세요</td>\n",
       "      <td>펨코</td>\n",
       "    </tr>\n",
       "  </tbody>\n",
       "</table>\n",
       "</div>"
      ],
      "text/plain": [
       "  tag                     title                         comment src\n",
       "0  이별                   카톡 차단확인      카톡프사 눌러서 오른쪽 위에 버튼 없으면 차단임  펨코\n",
       "1  이별                     헤어졌다링       아 ㅠㅠㅜㅜㅠㅜㅠㅜㅜㅠ 힘내유 ㅠㅠㅜㅠㅠㅜㅠㅠ  펨코\n",
       "2  이별                    이별후 노래                    기억을 걷습니다 고갱님  펨코\n",
       "3  이별               3개월만에 헤어졌네요  인연이 아니였던거지 만남들 복기해보고 다음연애 준비하자  펨코\n",
       "4  이별  헤어졌다 만났다가 3번째인데 끝이나버렸습니다                     너무 자책하지 마세요  펨코"
      ]
     },
     "execution_count": 5,
     "metadata": {},
     "output_type": "execute_result"
    }
   ],
   "source": [
    "data = pd.read_csv('data/data_final.csv')\n",
    "data.head()"
   ]
  },
  {
   "cell_type": "code",
   "execution_count": 6,
   "metadata": {},
   "outputs": [
    {
     "data": {
      "text/html": [
       "<div>\n",
       "<style scoped>\n",
       "    .dataframe tbody tr th:only-of-type {\n",
       "        vertical-align: middle;\n",
       "    }\n",
       "\n",
       "    .dataframe tbody tr th {\n",
       "        vertical-align: top;\n",
       "    }\n",
       "\n",
       "    .dataframe thead th {\n",
       "        text-align: right;\n",
       "    }\n",
       "</style>\n",
       "<table border=\"1\" class=\"dataframe\">\n",
       "  <thead>\n",
       "    <tr style=\"text-align: right;\">\n",
       "      <th></th>\n",
       "      <th>tag</th>\n",
       "      <th>title</th>\n",
       "      <th>comment</th>\n",
       "      <th>src</th>\n",
       "    </tr>\n",
       "  </thead>\n",
       "  <tbody>\n",
       "    <tr>\n",
       "      <th>0</th>\n",
       "      <td>태그없음</td>\n",
       "      <td>사귀는 걸 후회하는 걸까??</td>\n",
       "      <td>처음 말한 의도는 이렇게 빨리 사귀게 된 거 이상하게 생각하지 않았으면 좋겠다 나 ...</td>\n",
       "      <td>인티</td>\n",
       "    </tr>\n",
       "    <tr>\n",
       "      <th>1</th>\n",
       "      <td>태그없음</td>\n",
       "      <td>ESFJ는 너무 사람을 좋아해</td>\n",
       "      <td>관심없는 사람한테는 안그럽니다 ESFJ</td>\n",
       "      <td>인티</td>\n",
       "    </tr>\n",
       "    <tr>\n",
       "      <th>2</th>\n",
       "      <td>태그없음</td>\n",
       "      <td>애인 눈 밑?이 어두운데 눈빛은 괜찮거든</td>\n",
       "      <td>눈밑 어두운건 나도그럼 ㅋㅋㅋ</td>\n",
       "      <td>인티</td>\n",
       "    </tr>\n",
       "    <tr>\n",
       "      <th>3</th>\n",
       "      <td>잡담</td>\n",
       "      <td>우연히 친형 PC카톡을 봤는데</td>\n",
       "      <td>판도라의 상자를</td>\n",
       "      <td>펨코</td>\n",
       "    </tr>\n",
       "    <tr>\n",
       "      <th>4</th>\n",
       "      <td>태그없음</td>\n",
       "      <td>럽스타그램 헤어지면 다 삭제해? 아니면 비공으로 해놔?</td>\n",
       "      <td>난 삭제</td>\n",
       "      <td>인티</td>\n",
       "    </tr>\n",
       "    <tr>\n",
       "      <th>...</th>\n",
       "      <td>...</td>\n",
       "      <td>...</td>\n",
       "      <td>...</td>\n",
       "      <td>...</td>\n",
       "    </tr>\n",
       "    <tr>\n",
       "      <th>30762</th>\n",
       "      <td>잡담</td>\n",
       "      <td>저는 예비 처가집 참 잘만난거 같습니다</td>\n",
       "      <td>와 보기좋아</td>\n",
       "      <td>펨코</td>\n",
       "    </tr>\n",
       "    <tr>\n",
       "      <th>30763</th>\n",
       "      <td>잡담</td>\n",
       "      <td>두명이랑 썸타는거 너무 부도덕한건가요</td>\n",
       "      <td>원래 인생은 재고 따지는거임 ㄱㄱ 둘한테 들키지만 마셈</td>\n",
       "      <td>펨코</td>\n",
       "    </tr>\n",
       "    <tr>\n",
       "      <th>30764</th>\n",
       "      <td>이별</td>\n",
       "      <td>이제는 아프지도 않고 슬프지도 않고 괜찮은데 공허한건 어쩔 수 없나봐</td>\n",
       "      <td>그건 새로운 사람을 만나면 사라질겨 아니면 바쁜일상을 만나면</td>\n",
       "      <td>인티</td>\n",
       "    </tr>\n",
       "    <tr>\n",
       "      <th>30765</th>\n",
       "      <td>질문</td>\n",
       "      <td>짝녀랑 가능성? 잘모르겠어요</td>\n",
       "      <td>그만두셔요</td>\n",
       "      <td>펨코</td>\n",
       "    </tr>\n",
       "    <tr>\n",
       "      <th>30766</th>\n",
       "      <td>잡담</td>\n",
       "      <td>휴가때 어디 안가고 집에있는 사람 별로없나?</td>\n",
       "      <td>자전거타는대요 이틀 타고 나머진 다집</td>\n",
       "      <td>펨코</td>\n",
       "    </tr>\n",
       "  </tbody>\n",
       "</table>\n",
       "<p>30767 rows × 4 columns</p>\n",
       "</div>"
      ],
      "text/plain": [
       "        tag                                   title  \\\n",
       "0      태그없음                         사귀는 걸 후회하는 걸까??   \n",
       "1      태그없음                        ESFJ는 너무 사람을 좋아해   \n",
       "2      태그없음                  애인 눈 밑?이 어두운데 눈빛은 괜찮거든   \n",
       "3        잡담                        우연히 친형 PC카톡을 봤는데   \n",
       "4      태그없음          럽스타그램 헤어지면 다 삭제해? 아니면 비공으로 해놔?   \n",
       "...     ...                                     ...   \n",
       "30762    잡담                   저는 예비 처가집 참 잘만난거 같습니다   \n",
       "30763    잡담                    두명이랑 썸타는거 너무 부도덕한건가요   \n",
       "30764    이별  이제는 아프지도 않고 슬프지도 않고 괜찮은데 공허한건 어쩔 수 없나봐   \n",
       "30765    질문                         짝녀랑 가능성? 잘모르겠어요   \n",
       "30766    잡담                휴가때 어디 안가고 집에있는 사람 별로없나?   \n",
       "\n",
       "                                                 comment src  \n",
       "0      처음 말한 의도는 이렇게 빨리 사귀게 된 거 이상하게 생각하지 않았으면 좋겠다 나 ...  인티  \n",
       "1                                  관심없는 사람한테는 안그럽니다 ESFJ  인티  \n",
       "2                                       눈밑 어두운건 나도그럼 ㅋㅋㅋ  인티  \n",
       "3                                               판도라의 상자를  펨코  \n",
       "4                                                   난 삭제  인티  \n",
       "...                                                  ...  ..  \n",
       "30762                                             와 보기좋아  펨코  \n",
       "30763                     원래 인생은 재고 따지는거임 ㄱㄱ 둘한테 들키지만 마셈  펨코  \n",
       "30764                  그건 새로운 사람을 만나면 사라질겨 아니면 바쁜일상을 만나면  인티  \n",
       "30765                                              그만두셔요  펨코  \n",
       "30766                               자전거타는대요 이틀 타고 나머진 다집  펨코  \n",
       "\n",
       "[30767 rows x 4 columns]"
      ]
     },
     "execution_count": 6,
     "metadata": {},
     "output_type": "execute_result"
    }
   ],
   "source": [
    "data = data.sample(frac=1).reset_index(drop=True)\n",
    "data"
   ]
  },
  {
   "cell_type": "code",
   "execution_count": 13,
   "metadata": {},
   "outputs": [],
   "source": [
    "def train_test_split(data, test_ratio):\n",
    "    data = data.sample(frac=1).reset_index(drop=True)\n",
    "    test_len = int(len(data) * 0.3)\n",
    "    test_data = data[:test_len]\n",
    "    train_data = data[test_len:]\n",
    "    train_data = train_data.reset_index(drop=True)\n",
    "    return (train_data, test_data)"
   ]
  },
  {
   "cell_type": "code",
   "execution_count": 14,
   "metadata": {},
   "outputs": [
    {
     "data": {
      "text/plain": [
       "(21537, 9230)"
      ]
     },
     "execution_count": 14,
     "metadata": {},
     "output_type": "execute_result"
    }
   ],
   "source": [
    "train_data, test_data = train_test_split(data, 0.3)\n",
    "len(train_data), len(test_data)"
   ]
  },
  {
   "cell_type": "code",
   "execution_count": 15,
   "metadata": {},
   "outputs": [],
   "source": [
    "train_data.to_csv('data/train_data.csv', encoding='utf-8-sig')\n",
    "test_data.to_csv('data/test_data.csv', encoding='utf-8-sig')"
   ]
  }
 ],
 "metadata": {
  "kernelspec": {
   "display_name": "grad_nlp_comu_kobart",
   "language": "python",
   "name": "python3"
  },
  "language_info": {
   "codemirror_mode": {
    "name": "ipython",
    "version": 3
   },
   "file_extension": ".py",
   "mimetype": "text/x-python",
   "name": "python",
   "nbconvert_exporter": "python",
   "pygments_lexer": "ipython3",
   "version": "3.8.2"
  },
  "orig_nbformat": 4
 },
 "nbformat": 4,
 "nbformat_minor": 2
}
