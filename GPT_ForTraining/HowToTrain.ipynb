{
 "cells": [
  {
   "attachments": {},
   "cell_type": "markdown",
   "metadata": {},
   "source": [
    "본 실험은 인공지능대학 전용서버에서 작성 및 검증되었습니다."
   ]
  },
  {
   "attachments": {},
   "cell_type": "markdown",
   "metadata": {},
   "source": [
    "원래 파일에서 수정된 내용:  \n",
    "1. data에서 sentiment column 사용코드 삭제\n",
    "2. 라이브러리 디펜던시 관련 문제 해결\n",
    "3. max_epochs, max_length 각각 100, 30으로 수정\n",
    "4. early stopping callback 추가 및 검증 완료\n",
    "5. DataLoader Tensor 변환 최적화"
   ]
  },
  {
   "attachments": {},
   "cell_type": "markdown",
   "metadata": {},
   "source": [
    "주의할 사항:  \n",
    "1. gpt-trinity 사용할 때에는 train_torch.py에서 직접 바꿔줘야 함 (검증 안 해봄)  \n",
    "\n",
    "해결. early stopping callback 오류 없이 돌아가는 것은 확인했지만 종료되는 것은 검증 X -> 현재 검증 완료"
   ]
  },
  {
   "attachments": {},
   "cell_type": "markdown",
   "metadata": {},
   "source": [
    "Chatbot_data/ChatbotData.csv 파일 갈아끼우기, train_torch.py -train_file, -test_file 바꿔주기"
   ]
  },
  {
   "cell_type": "code",
   "execution_count": null,
   "metadata": {},
   "outputs": [],
   "source": [
    "pip install -r requirements.txt"
   ]
  },
  {
   "cell_type": "code",
   "execution_count": null,
   "metadata": {},
   "outputs": [],
   "source": [
    "python train_torch.py --gpus 1 --max_epochs 100 --task_prefix ss"
   ]
  },
  {
   "attachments": {},
   "cell_type": "markdown",
   "metadata": {},
   "source": [
    "### 모델 추출"
   ]
  },
  {
   "cell_type": "code",
   "execution_count": 2,
   "metadata": {},
   "outputs": [],
   "source": [
    "ckpt_paths = ['comuchat_fm/kogpt_chitchat-model_chp/kogpt2_comuchat_fmepoch=02-val_loss=47.742.ckpt',\n",
    " 'comuchat/kogpt_chitchat-model_chp/kogpt2_comuchatepoch=03-val_loss=44.453.ckpt',\n",
    " 'comuchat_ins/kogpt_chitchat-model_chp/kogpt2_comuchat_insepoch=03-val_loss=43.799.ckpt',\n",
    " 'wellness/kogpt_chitchat-model_chp/kogpt2_wellnessepoch=06-val_loss=64.035.ckpt'\n",
    " ]\n",
    "\n",
    "pretrained_path = ['kogpt2_comuchat_fm',\n",
    " 'kogpt2_comuchat',\n",
    " 'kogpt2_comuchat_ins',\n",
    " 'kogpt2_wellness'\n",
    " ]\n",
    "\n",
    "operations = []\n",
    "for i in range(4):\n",
    "    operations.append(\n",
    "        f'python train_torch.py --just_extract --ckpt_path {ckpt_paths[i]} --pretrained_path {pretrained_path[i]}'\n",
    "    )"
   ]
  },
  {
   "cell_type": "code",
   "execution_count": 4,
   "metadata": {},
   "outputs": [
    {
     "name": "stdout",
     "output_type": "stream",
     "text": [
      "python train_torch.py --just_extract --ckpt_path comuchat_fm/kogpt_chitchat-model_chp/kogpt2_comuchat_fmepoch=02-val_loss=47.742.ckpt --pretrained_path kogpt2_comuchat_fm\n",
      "\n",
      "python train_torch.py --just_extract --ckpt_path comuchat/kogpt_chitchat-model_chp/kogpt2_comuchatepoch=03-val_loss=44.453.ckpt --pretrained_path kogpt2_comuchat\n",
      "\n",
      "python train_torch.py --just_extract --ckpt_path comuchat_ins/kogpt_chitchat-model_chp/kogpt2_comuchat_insepoch=03-val_loss=43.799.ckpt --pretrained_path kogpt2_comuchat_ins\n",
      "\n",
      "python train_torch.py --just_extract --ckpt_path wellness/kogpt_chitchat-model_chp/kogpt2_wellnessepoch=06-val_loss=64.035.ckpt --pretrained_path kogpt2_wellness\n",
      "\n"
     ]
    }
   ],
   "source": [
    "for op in operations:\n",
    "    print(op, end='\\n\\n')"
   ]
  },
  {
   "attachments": {},
   "cell_type": "markdown",
   "metadata": {},
   "source": [
    "### 채팅"
   ]
  },
  {
   "cell_type": "code",
   "execution_count": null,
   "metadata": {},
   "outputs": [],
   "source": [
    "python train_torch.py --chat --model_path ./kogpt2_comuchat"
   ]
  }
 ],
 "metadata": {
  "kernelspec": {
   "display_name": "grad_nlp_comu_test",
   "language": "python",
   "name": "python3"
  },
  "language_info": {
   "codemirror_mode": {
    "name": "ipython",
    "version": 3
   },
   "file_extension": ".py",
   "mimetype": "text/x-python",
   "name": "python",
   "nbconvert_exporter": "python",
   "pygments_lexer": "ipython3",
   "version": "3.9.16"
  },
  "orig_nbformat": 4
 },
 "nbformat": 4,
 "nbformat_minor": 2
}
