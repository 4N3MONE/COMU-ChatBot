{
 "cells": [
  {
   "attachments": {},
   "cell_type": "markdown",
   "metadata": {},
   "source": [
    "본 실험은 인공지능대학 전용서버에서 작성 및 검증되었습니다."
   ]
  },
  {
   "attachments": {},
   "cell_type": "markdown",
   "metadata": {},
   "source": [
    "원래 파일에서 수정된 내용:  \n",
    "1. data에서 sentiment column 사용코드 삭제\n",
    "2. 라이브러리 디펜던시 관련 문제 해결\n",
    "3. max_epochs, max_length 각각 100, 30으로 수정\n",
    "4. early stopping callback 추가"
   ]
  },
  {
   "attachments": {},
   "cell_type": "markdown",
   "metadata": {},
   "source": [
    "주의할 사항:  \n",
    "1. gpt-trinity 사용할 때에는 train_torch.py에서 직접 바꿔줘야 함 (검증 안 해봄)\n",
    "2. early stopping callback 오류 없이 돌아가는 것은 확인했지만 종료되는 것은 검증 X\n",
    "-> 현재 검증중, 완료되면 수정해서 올리겠습니다."
   ]
  },
  {
   "attachments": {},
   "cell_type": "markdown",
   "metadata": {},
   "source": [
    "Chatbot_data/ChatbotData.csv 파일 갈아끼우기 (파일 이름은 그대로!)"
   ]
  },
  {
   "cell_type": "code",
   "execution_count": null,
   "metadata": {},
   "outputs": [],
   "source": [
    "pip install -r requirements.txt"
   ]
  },
  {
   "cell_type": "code",
   "execution_count": null,
   "metadata": {},
   "outputs": [],
   "source": [
    "python train_torch.py --train --gpus 1 --max_epochs 100"
   ]
  }
 ],
 "metadata": {
  "language_info": {
   "name": "python"
  },
  "orig_nbformat": 4
 },
 "nbformat": 4,
 "nbformat_minor": 2
}
